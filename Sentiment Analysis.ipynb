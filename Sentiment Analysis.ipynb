{
 "cells": [
  {
   "cell_type": "markdown",
   "id": "ee2467da",
   "metadata": {},
   "source": [
    "# Import packages"
   ]
  },
  {
   "cell_type": "code",
   "execution_count": 1,
   "id": "84d23c0f",
   "metadata": {},
   "outputs": [],
   "source": [
    "#Data manipulation and visualisation\n",
    "import pandas as pd\n",
    "import seaborn as sns\n",
    "import numpy as np\n",
    "import matplotlib.pyplot as plt\n",
    "\n",
    "#text analytics\n",
    "import re\n",
    "import nltk\n",
    "from textblob import TextBlob\n",
    "from nltk.stem.porter import PorterStemmer\n",
    "from nltk.stem.wordnet import WordNetLemmatizer\n",
    "from wordcloud import WordCloud"
   ]
  },
  {
   "cell_type": "code",
   "execution_count": 7,
   "id": "09c8d979",
   "metadata": {},
   "outputs": [],
   "source": [
    "#to see all text in an column\n",
    "pd.set_option('display.max_colwidth', None)"
   ]
  },
  {
   "cell_type": "markdown",
   "id": "21bc15aa",
   "metadata": {},
   "source": [
    "# Custom functions"
   ]
  },
  {
   "cell_type": "code",
   "execution_count": 27,
   "id": "448fd493",
   "metadata": {},
   "outputs": [
    {
     "name": "stderr",
     "output_type": "stream",
     "text": [
      "[nltk_data] Error loading stopwords: <urlopen error [Errno 11001]\n",
      "[nltk_data]     getaddrinfo failed>\n",
      "[nltk_data] Error loading wordnet: <urlopen error [Errno 11001]\n",
      "[nltk_data]     getaddrinfo failed>\n"
     ]
    }
   ],
   "source": [
    "#create a set of stop words\n",
    "nltk.download('stopwords')\n",
    "nltk.download('wordnet')\n",
    "stopwords = nltk.corpus.stopwords.words(\"english\")"
   ]
  },
  {
   "cell_type": "code",
   "execution_count": 2,
   "id": "a67b9f54",
   "metadata": {},
   "outputs": [],
   "source": [
    "#remove special characters from text column\n",
    "def clear_white_space(value):\n",
    "    regex = re.compile(\"\\s\")\n",
    "    value = regex.sub(\" \", value)\n",
    "    return value"
   ]
  },
  {
   "cell_type": "code",
   "execution_count": 3,
   "id": "a2f166b2",
   "metadata": {},
   "outputs": [],
   "source": [
    "#retain words with only english characters\n",
    "def get_word(value):\n",
    "    regex = re.compile(r\"[a-zA-Z]+\")\n",
    "    texts = (re.findall(regex, value))\n",
    "    return ' '.join(texts)"
   ]
  },
  {
   "cell_type": "code",
   "execution_count": 4,
   "id": "e98d840f",
   "metadata": {},
   "outputs": [],
   "source": [
    "#detect websites for further reference\n",
    "def get_site(value):\n",
    "    regex = re.compile(\"https://[^\\s]*\\s\")\n",
    "    texts = (re.findall(regex, value))\n",
    "    return ' '.join(texts)"
   ]
  },
  {
   "cell_type": "code",
   "execution_count": 5,
   "id": "60ebb497",
   "metadata": {},
   "outputs": [],
   "source": [
    "# #test area for customers functions (to comment out after development)\n",
    "# test_text = \"An aging world: 2015\\t0924dD31EAQJ\\thttps://www.researchgate.net/profile/Paul-Kowal/publication/299528572_An_Aging_World_2015/links/56fd4be108ae17c8efaa1132/An-Aging-World-2015.pdf\\t… of population aging Dr. Suzman played a critical role in developing the aging research … Suzman’s dedication to research on population aging which in his words\"\n",
    "# test_text = clear_white_space(test_text)\n",
    "# print(test_text)\n",
    "\n",
    "# site = get_site(test_text)\n",
    "# print(site)\n",
    "\n",
    "# test_text = get_word(test_text)\n",
    "# print(test_text)"
   ]
  },
  {
   "cell_type": "markdown",
   "id": "83707a2a",
   "metadata": {},
   "source": [
    "# Part 1) Import dataframe"
   ]
  },
  {
   "cell_type": "code",
   "execution_count": 6,
   "id": "f76bad18",
   "metadata": {},
   "outputs": [
    {
     "name": "stderr",
     "output_type": "stream",
     "text": [
      "b'Skipping line 4: expected 15 fields, saw 18\\nSkipping line 24: expected 15 fields, saw 18\\nSkipping line 44: expected 15 fields, saw 18\\nSkipping line 64: expected 15 fields, saw 18\\nSkipping line 84: expected 15 fields, saw 18\\nSkipping line 104: expected 15 fields, saw 18\\nSkipping line 124: expected 15 fields, saw 18\\nSkipping line 144: expected 15 fields, saw 18\\nSkipping line 164: expected 15 fields, saw 18\\nSkipping line 184: expected 15 fields, saw 18\\nSkipping line 204: expected 15 fields, saw 18\\nSkipping line 224: expected 15 fields, saw 20\\nSkipping line 228: expected 15 fields, saw 22\\nSkipping line 235: expected 15 fields, saw 27\\nSkipping line 244: expected 15 fields, saw 20\\nSkipping line 248: expected 15 fields, saw 22\\nSkipping line 255: expected 15 fields, saw 27\\nSkipping line 264: expected 15 fields, saw 20\\nSkipping line 268: expected 15 fields, saw 22\\nSkipping line 275: expected 15 fields, saw 27\\nSkipping line 284: expected 15 fields, saw 20\\nSkipping line 288: expected 15 fields, saw 22\\nSkipping line 295: expected 15 fields, saw 27\\nSkipping line 304: expected 15 fields, saw 20\\nSkipping line 308: expected 15 fields, saw 22\\nSkipping line 315: expected 15 fields, saw 27\\nSkipping line 324: expected 15 fields, saw 20\\nSkipping line 328: expected 15 fields, saw 22\\nSkipping line 335: expected 15 fields, saw 27\\nSkipping line 344: expected 15 fields, saw 20\\nSkipping line 348: expected 15 fields, saw 22\\nSkipping line 355: expected 15 fields, saw 27\\nSkipping line 364: expected 15 fields, saw 20\\nSkipping line 368: expected 15 fields, saw 22\\nSkipping line 375: expected 15 fields, saw 27\\nSkipping line 384: expected 15 fields, saw 20\\nSkipping line 388: expected 15 fields, saw 22\\nSkipping line 395: expected 15 fields, saw 27\\nSkipping line 404: expected 15 fields, saw 20\\nSkipping line 408: expected 15 fields, saw 22\\nSkipping line 415: expected 15 fields, saw 27\\nSkipping line 424: expected 15 fields, saw 20\\nSkipping line 428: expected 15 fields, saw 22\\nSkipping line 435: expected 15 fields, saw 27\\nSkipping line 443: expected 15 fields, saw 18\\nSkipping line 448: expected 15 fields, saw 16\\nSkipping line 451: expected 15 fields, saw 17\\nSkipping line 456: expected 15 fields, saw 21\\nSkipping line 463: expected 15 fields, saw 18\\nSkipping line 468: expected 15 fields, saw 16\\nSkipping line 471: expected 15 fields, saw 17\\nSkipping line 476: expected 15 fields, saw 21\\nSkipping line 483: expected 15 fields, saw 18\\nSkipping line 488: expected 15 fields, saw 16\\nSkipping line 491: expected 15 fields, saw 17\\nSkipping line 496: expected 15 fields, saw 21\\nSkipping line 503: expected 15 fields, saw 18\\nSkipping line 508: expected 15 fields, saw 16\\nSkipping line 511: expected 15 fields, saw 17\\nSkipping line 516: expected 15 fields, saw 21\\nSkipping line 523: expected 15 fields, saw 18\\nSkipping line 528: expected 15 fields, saw 16\\nSkipping line 531: expected 15 fields, saw 17\\nSkipping line 536: expected 15 fields, saw 21\\nSkipping line 543: expected 15 fields, saw 18\\nSkipping line 548: expected 15 fields, saw 16\\nSkipping line 551: expected 15 fields, saw 17\\nSkipping line 556: expected 15 fields, saw 21\\nSkipping line 563: expected 15 fields, saw 18\\nSkipping line 568: expected 15 fields, saw 16\\nSkipping line 571: expected 15 fields, saw 17\\nSkipping line 576: expected 15 fields, saw 21\\nSkipping line 583: expected 15 fields, saw 18\\nSkipping line 588: expected 15 fields, saw 16\\nSkipping line 591: expected 15 fields, saw 17\\nSkipping line 596: expected 15 fields, saw 21\\nSkipping line 603: expected 15 fields, saw 18\\nSkipping line 608: expected 15 fields, saw 16\\nSkipping line 611: expected 15 fields, saw 17\\nSkipping line 616: expected 15 fields, saw 21\\nSkipping line 623: expected 15 fields, saw 18\\nSkipping line 628: expected 15 fields, saw 16\\nSkipping line 631: expected 15 fields, saw 17\\nSkipping line 636: expected 15 fields, saw 21\\nSkipping line 643: expected 15 fields, saw 18\\nSkipping line 648: expected 15 fields, saw 16\\nSkipping line 651: expected 15 fields, saw 17\\nSkipping line 656: expected 15 fields, saw 21\\nSkipping line 664: expected 15 fields, saw 17\\nSkipping line 666: expected 15 fields, saw 17\\nSkipping line 672: expected 15 fields, saw 16\\nSkipping line 684: expected 15 fields, saw 17\\nSkipping line 686: expected 15 fields, saw 17\\nSkipping line 692: expected 15 fields, saw 16\\nSkipping line 704: expected 15 fields, saw 17\\nSkipping line 706: expected 15 fields, saw 17\\nSkipping line 712: expected 15 fields, saw 16\\nSkipping line 724: expected 15 fields, saw 17\\nSkipping line 726: expected 15 fields, saw 17\\nSkipping line 732: expected 15 fields, saw 16\\nSkipping line 744: expected 15 fields, saw 17\\nSkipping line 746: expected 15 fields, saw 17\\nSkipping line 752: expected 15 fields, saw 16\\nSkipping line 764: expected 15 fields, saw 17\\nSkipping line 766: expected 15 fields, saw 17\\nSkipping line 772: expected 15 fields, saw 16\\nSkipping line 784: expected 15 fields, saw 17\\nSkipping line 786: expected 15 fields, saw 17\\nSkipping line 792: expected 15 fields, saw 16\\nSkipping line 804: expected 15 fields, saw 17\\nSkipping line 806: expected 15 fields, saw 17\\nSkipping line 812: expected 15 fields, saw 16\\nSkipping line 824: expected 15 fields, saw 17\\nSkipping line 826: expected 15 fields, saw 17\\nSkipping line 832: expected 15 fields, saw 16\\nSkipping line 844: expected 15 fields, saw 17\\nSkipping line 846: expected 15 fields, saw 17\\nSkipping line 852: expected 15 fields, saw 16\\nSkipping line 864: expected 15 fields, saw 17\\nSkipping line 866: expected 15 fields, saw 17\\nSkipping line 872: expected 15 fields, saw 16\\nSkipping line 901: expected 15 fields, saw 19\\nSkipping line 921: expected 15 fields, saw 19\\nSkipping line 941: expected 15 fields, saw 19\\nSkipping line 961: expected 15 fields, saw 19\\nSkipping line 981: expected 15 fields, saw 19\\nSkipping line 1001: expected 15 fields, saw 19\\nSkipping line 1021: expected 15 fields, saw 19\\nSkipping line 1041: expected 15 fields, saw 19\\nSkipping line 1061: expected 15 fields, saw 19\\nSkipping line 1081: expected 15 fields, saw 19\\nSkipping line 1101: expected 15 fields, saw 19\\nSkipping line 1104: expected 15 fields, saw 25\\nSkipping line 1105: expected 15 fields, saw 20\\nSkipping line 1106: expected 15 fields, saw 28\\nSkipping line 1109: expected 15 fields, saw 23\\nSkipping line 1114: expected 15 fields, saw 20\\nSkipping line 1116: expected 15 fields, saw 30\\nSkipping line 1117: expected 15 fields, saw 18\\nSkipping line 1124: expected 15 fields, saw 25\\nSkipping line 1125: expected 15 fields, saw 20\\nSkipping line 1126: expected 15 fields, saw 28\\nSkipping line 1129: expected 15 fields, saw 23\\nSkipping line 1134: expected 15 fields, saw 20\\nSkipping line 1136: expected 15 fields, saw 30\\nSkipping line 1137: expected 15 fields, saw 18\\nSkipping line 1144: expected 15 fields, saw 25\\nSkipping line 1145: expected 15 fields, saw 20\\nSkipping line 1146: expected 15 fields, saw 28\\nSkipping line 1149: expected 15 fields, saw 23\\nSkipping line 1154: expected 15 fields, saw 20\\nSkipping line 1156: expected 15 fields, saw 30\\nSkipping line 1157: expected 15 fields, saw 18\\nSkipping line 1164: expected 15 fields, saw 25\\nSkipping line 1165: expected 15 fields, saw 20\\nSkipping line 1166: expected 15 fields, saw 28\\nSkipping line 1169: expected 15 fields, saw 23\\nSkipping line 1174: expected 15 fields, saw 20\\nSkipping line 1176: expected 15 fields, saw 30\\nSkipping line 1177: expected 15 fields, saw 18\\nSkipping line 1184: expected 15 fields, saw 25\\nSkipping line 1185: expected 15 fields, saw 20\\nSkipping line 1186: expected 15 fields, saw 28\\nSkipping line 1189: expected 15 fields, saw 23\\nSkipping line 1194: expected 15 fields, saw 20\\nSkipping line 1196: expected 15 fields, saw 30\\nSkipping line 1197: expected 15 fields, saw 18\\nSkipping line 1204: expected 15 fields, saw 25\\nSkipping line 1205: expected 15 fields, saw 20\\nSkipping line 1206: expected 15 fields, saw 28\\nSkipping line 1209: expected 15 fields, saw 23\\nSkipping line 1214: expected 15 fields, saw 20\\nSkipping line 1216: expected 15 fields, saw 30\\nSkipping line 1217: expected 15 fields, saw 18\\nSkipping line 1224: expected 15 fields, saw 25\\nSkipping line 1225: expected 15 fields, saw 20\\nSkipping line 1226: expected 15 fields, saw 28\\nSkipping line 1229: expected 15 fields, saw 23\\nSkipping line 1234: expected 15 fields, saw 20\\nSkipping line 1236: expected 15 fields, saw 30\\nSkipping line 1237: expected 15 fields, saw 18\\nSkipping line 1244: expected 15 fields, saw 25\\nSkipping line 1245: expected 15 fields, saw 20\\nSkipping line 1246: expected 15 fields, saw 28\\nSkipping line 1249: expected 15 fields, saw 23\\nSkipping line 1254: expected 15 fields, saw 20\\nSkipping line 1256: expected 15 fields, saw 30\\nSkipping line 1257: expected 15 fields, saw 18\\nSkipping line 1264: expected 15 fields, saw 25\\nSkipping line 1265: expected 15 fields, saw 20\\nSkipping line 1266: expected 15 fields, saw 28\\nSkipping line 1269: expected 15 fields, saw 23\\nSkipping line 1274: expected 15 fields, saw 20\\nSkipping line 1276: expected 15 fields, saw 30\\nSkipping line 1277: expected 15 fields, saw 18\\nSkipping line 1284: expected 15 fields, saw 25\\nSkipping line 1285: expected 15 fields, saw 20\\nSkipping line 1286: expected 15 fields, saw 28\\nSkipping line 1289: expected 15 fields, saw 23\\nSkipping line 1294: expected 15 fields, saw 20\\nSkipping line 1296: expected 15 fields, saw 30\\nSkipping line 1297: expected 15 fields, saw 18\\nSkipping line 1304: expected 15 fields, saw 25\\nSkipping line 1305: expected 15 fields, saw 20\\nSkipping line 1306: expected 15 fields, saw 28\\nSkipping line 1309: expected 15 fields, saw 23\\nSkipping line 1314: expected 15 fields, saw 20\\nSkipping line 1316: expected 15 fields, saw 30\\nSkipping line 1317: expected 15 fields, saw 18\\nSkipping line 1322: expected 15 fields, saw 23\\nSkipping line 1327: expected 15 fields, saw 20\\nSkipping line 1330: expected 15 fields, saw 16\\nSkipping line 1337: expected 15 fields, saw 17\\nSkipping line 1338: expected 15 fields, saw 16\\nSkipping line 1342: expected 15 fields, saw 23\\nSkipping line 1347: expected 15 fields, saw 20\\nSkipping line 1350: expected 15 fields, saw 16\\nSkipping line 1357: expected 15 fields, saw 17\\nSkipping line 1358: expected 15 fields, saw 16\\nSkipping line 1362: expected 15 fields, saw 23\\nSkipping line 1367: expected 15 fields, saw 20\\nSkipping line 1370: expected 15 fields, saw 16\\nSkipping line 1377: expected 15 fields, saw 17\\nSkipping line 1378: expected 15 fields, saw 16\\nSkipping line 1382: expected 15 fields, saw 23\\nSkipping line 1387: expected 15 fields, saw 20\\nSkipping line 1390: expected 15 fields, saw 16\\nSkipping line 1397: expected 15 fields, saw 17\\nSkipping line 1398: expected 15 fields, saw 16\\nSkipping line 1402: expected 15 fields, saw 23\\nSkipping line 1407: expected 15 fields, saw 20\\nSkipping line 1410: expected 15 fields, saw 16\\nSkipping line 1417: expected 15 fields, saw 17\\nSkipping line 1418: expected 15 fields, saw 16\\nSkipping line 1422: expected 15 fields, saw 23\\nSkipping line 1427: expected 15 fields, saw 20\\nSkipping line 1430: expected 15 fields, saw 16\\nSkipping line 1437: expected 15 fields, saw 17\\nSkipping line 1438: expected 15 fields, saw 16\\nSkipping line 1442: expected 15 fields, saw 23\\nSkipping line 1447: expected 15 fields, saw 20\\nSkipping line 1450: expected 15 fields, saw 16\\nSkipping line 1457: expected 15 fields, saw 17\\nSkipping line 1458: expected 15 fields, saw 16\\nSkipping line 1462: expected 15 fields, saw 23\\nSkipping line 1467: expected 15 fields, saw 20\\nSkipping line 1470: expected 15 fields, saw 16\\nSkipping line 1477: expected 15 fields, saw 17\\nSkipping line 1478: expected 15 fields, saw 16\\nSkipping line 1482: expected 15 fields, saw 23\\nSkipping line 1487: expected 15 fields, saw 20\\nSkipping line 1490: expected 15 fields, saw 16\\nSkipping line 1497: expected 15 fields, saw 17\\nSkipping line 1498: expected 15 fields, saw 16\\nSkipping line 1502: expected 15 fields, saw 23\\nSkipping line 1507: expected 15 fields, saw 20\\nSkipping line 1510: expected 15 fields, saw 16\\nSkipping line 1517: expected 15 fields, saw 17\\nSkipping line 1518: expected 15 fields, saw 16\\nSkipping line 1522: expected 15 fields, saw 23\\nSkipping line 1527: expected 15 fields, saw 20\\nSkipping line 1530: expected 15 fields, saw 16\\nSkipping line 1537: expected 15 fields, saw 17\\nSkipping line 1538: expected 15 fields, saw 16\\nSkipping line 1549: expected 15 fields, saw 16\\nSkipping line 1555: expected 15 fields, saw 16\\nSkipping line 1560: expected 15 fields, saw 18\\nSkipping line 1561: expected 15 fields, saw 17\\nSkipping line 1569: expected 15 fields, saw 16\\nSkipping line 1575: expected 15 fields, saw 16\\nSkipping line 1580: expected 15 fields, saw 18\\nSkipping line 1581: expected 15 fields, saw 17\\nSkipping line 1589: expected 15 fields, saw 16\\nSkipping line 1595: expected 15 fields, saw 16\\nSkipping line 1600: expected 15 fields, saw 18\\nSkipping line 1601: expected 15 fields, saw 17\\nSkipping line 1609: expected 15 fields, saw 16\\nSkipping line 1615: expected 15 fields, saw 16\\nSkipping line 1620: expected 15 fields, saw 18\\nSkipping line 1621: expected 15 fields, saw 17\\nSkipping line 1629: expected 15 fields, saw 16\\nSkipping line 1635: expected 15 fields, saw 16\\nSkipping line 1640: expected 15 fields, saw 18\\nSkipping line 1641: expected 15 fields, saw 17\\nSkipping line 1649: expected 15 fields, saw 16\\nSkipping line 1655: expected 15 fields, saw 16\\nSkipping line 1660: expected 15 fields, saw 18\\nSkipping line 1661: expected 15 fields, saw 17\\nSkipping line 1669: expected 15 fields, saw 16\\nSkipping line 1675: expected 15 fields, saw 16\\nSkipping line 1680: expected 15 fields, saw 18\\nSkipping line 1681: expected 15 fields, saw 17\\nSkipping line 1689: expected 15 fields, saw 16\\nSkipping line 1695: expected 15 fields, saw 16\\nSkipping line 1700: expected 15 fields, saw 18\\nSkipping line 1701: expected 15 fields, saw 17\\nSkipping line 1709: expected 15 fields, saw 16\\nSkipping line 1715: expected 15 fields, saw 16\\nSkipping line 1720: expected 15 fields, saw 18\\nSkipping line 1721: expected 15 fields, saw 17\\nSkipping line 1729: expected 15 fields, saw 16\\nSkipping line 1735: expected 15 fields, saw 16\\nSkipping line 1740: expected 15 fields, saw 18\\nSkipping line 1741: expected 15 fields, saw 17\\nSkipping line 1749: expected 15 fields, saw 16\\nSkipping line 1755: expected 15 fields, saw 16\\nSkipping line 1760: expected 15 fields, saw 18\\nSkipping line 1761: expected 15 fields, saw 17\\nSkipping line 1773: expected 15 fields, saw 17\\nSkipping line 1793: expected 15 fields, saw 17\\nSkipping line 1813: expected 15 fields, saw 17\\nSkipping line 1833: expected 15 fields, saw 17\\nSkipping line 1853: expected 15 fields, saw 17\\nSkipping line 1873: expected 15 fields, saw 17\\nSkipping line 1893: expected 15 fields, saw 17\\nSkipping line 1913: expected 15 fields, saw 17\\nSkipping line 1933: expected 15 fields, saw 17\\nSkipping line 1953: expected 15 fields, saw 17\\nSkipping line 1973: expected 15 fields, saw 17\\nSkipping line 1982: expected 15 fields, saw 20\\nSkipping line 1994: expected 15 fields, saw 17\\nSkipping line 1996: expected 15 fields, saw 21\\nSkipping line 1999: expected 15 fields, saw 19\\nSkipping line 2003: expected 15 fields, saw 18\\nSkipping line 2011: expected 15 fields, saw 18\\nSkipping line 2024: expected 15 fields, saw 20\\nSkipping line 2047: expected 15 fields, saw 21\\nSkipping line 2051: expected 15 fields, saw 22\\nSkipping line 2054: expected 15 fields, saw 28\\nSkipping line 2056: expected 15 fields, saw 19\\nSkipping line 2060: expected 15 fields, saw 20\\nSkipping line 2076: expected 15 fields, saw 24\\nSkipping line 2077: expected 15 fields, saw 17\\nSkipping line 2087: expected 15 fields, saw 24\\nSkipping line 2088: expected 15 fields, saw 20\\nSkipping line 2092: expected 15 fields, saw 21\\nSkipping line 2096: expected 15 fields, saw 19\\nSkipping line 2099: expected 15 fields, saw 17\\nSkipping line 2101: expected 15 fields, saw 23\\nSkipping line 2106: expected 15 fields, saw 21\\nSkipping line 2120: expected 15 fields, saw 24\\nSkipping line 2129: expected 15 fields, saw 23\\nSkipping line 2142: expected 15 fields, saw 16\\nSkipping line 2148: expected 15 fields, saw 19\\nSkipping line 2153: expected 15 fields, saw 21\\nSkipping line 2156: expected 15 fields, saw 17\\nSkipping line 2163: expected 15 fields, saw 18\\nSkipping line 2171: expected 15 fields, saw 17\\nSkipping line 2172: expected 15 fields, saw 16\\nSkipping line 2176: expected 15 fields, saw 20\\nSkipping line 2179: expected 15 fields, saw 18\\nSkipping line 2180: expected 15 fields, saw 20\\nSkipping line 2181: expected 15 fields, saw 17\\nSkipping line 2182: expected 15 fields, saw 17\\nSkipping line 2186: expected 15 fields, saw 22\\nSkipping line 2188: expected 15 fields, saw 19\\nSkipping line 2192: expected 15 fields, saw 22\\nSkipping line 2197: expected 15 fields, saw 16\\nSkipping line 2201: expected 15 fields, saw 16\\nSkipping line 2210: expected 15 fields, saw 19\\nSkipping line 2220: expected 15 fields, saw 16\\nSkipping line 2224: expected 15 fields, saw 20\\nSkipping line 2229: expected 15 fields, saw 19\\nSkipping line 2233: expected 15 fields, saw 16\\nSkipping line 2236: expected 15 fields, saw 16\\nSkipping line 2241: expected 15 fields, saw 17\\nSkipping line 2247: expected 15 fields, saw 27\\nSkipping line 2251: expected 15 fields, saw 16\\nSkipping line 2259: expected 15 fields, saw 19\\nSkipping line 2264: expected 15 fields, saw 20\\nSkipping line 2266: expected 15 fields, saw 17\\nSkipping line 2268: expected 15 fields, saw 19\\nSkipping line 2273: expected 15 fields, saw 20\\nSkipping line 2275: expected 15 fields, saw 18\\nSkipping line 2276: expected 15 fields, saw 18\\nSkipping line 2284: expected 15 fields, saw 18\\nSkipping line 2285: expected 15 fields, saw 17\\nSkipping line 2288: expected 15 fields, saw 21\\nSkipping line 2309: expected 15 fields, saw 21\\nSkipping line 2313: expected 15 fields, saw 19\\nSkipping line 2320: expected 15 fields, saw 16\\nSkipping line 2321: expected 15 fields, saw 20\\nSkipping line 2328: expected 15 fields, saw 18\\nSkipping line 2337: expected 15 fields, saw 19\\nSkipping line 2341: expected 15 fields, saw 23\\nSkipping line 2342: expected 15 fields, saw 22\\nSkipping line 2344: expected 15 fields, saw 19\\nSkipping line 2346: expected 15 fields, saw 18\\nSkipping line 2349: expected 15 fields, saw 16\\nSkipping line 2355: expected 15 fields, saw 19\\nSkipping line 2363: expected 15 fields, saw 17\\nSkipping line 2364: expected 15 fields, saw 18\\nSkipping line 2371: expected 15 fields, saw 18\\nSkipping line 2373: expected 15 fields, saw 21\\nSkipping line 2375: expected 15 fields, saw 17\\nSkipping line 2376: expected 15 fields, saw 22\\nSkipping line 2380: expected 15 fields, saw 16\\nSkipping line 2381: expected 15 fields, saw 24\\nSkipping line 2382: expected 15 fields, saw 18\\nSkipping line 2386: expected 15 fields, saw 19\\nSkipping line 2387: expected 15 fields, saw 23\\nSkipping line 2388: expected 15 fields, saw 23\\nSkipping line 2392: expected 15 fields, saw 22\\nSkipping line 2395: expected 15 fields, saw 18\\nSkipping line 2396: expected 15 fields, saw 19\\nSkipping line 2398: expected 15 fields, saw 18\\nSkipping line 2402: expected 15 fields, saw 20\\nSkipping line 2404: expected 15 fields, saw 17\\nSkipping line 2405: expected 15 fields, saw 17\\nSkipping line 2410: expected 15 fields, saw 16\\nSkipping line 2411: expected 15 fields, saw 24\\nSkipping line 2413: expected 15 fields, saw 18\\nSkipping line 2415: expected 15 fields, saw 21\\nSkipping line 2416: expected 15 fields, saw 25\\nSkipping line 2417: expected 15 fields, saw 17\\nSkipping line 2418: expected 15 fields, saw 19\\nSkipping line 2419: expected 15 fields, saw 22\\nSkipping line 2439: expected 15 fields, saw 18\\nSkipping line 2441: expected 15 fields, saw 20\\nSkipping line 2446: expected 15 fields, saw 21\\nSkipping line 2447: expected 15 fields, saw 16\\nSkipping line 2457: expected 15 fields, saw 17\\nSkipping line 2466: expected 15 fields, saw 17\\nSkipping line 2474: expected 15 fields, saw 16\\nSkipping line 2482: expected 15 fields, saw 17\\nSkipping line 2483: expected 15 fields, saw 20\\nSkipping line 2502: expected 15 fields, saw 18\\nSkipping line 2505: expected 15 fields, saw 16\\nSkipping line 2511: expected 15 fields, saw 26\\nSkipping line 2514: expected 15 fields, saw 24\\nSkipping line 2519: expected 15 fields, saw 25\\nSkipping line 2522: expected 15 fields, saw 18\\nSkipping line 2525: expected 15 fields, saw 17\\nSkipping line 2540: expected 15 fields, saw 18\\nSkipping line 2541: expected 15 fields, saw 18\\nSkipping line 2543: expected 15 fields, saw 18\\nSkipping line 2550: expected 15 fields, saw 18\\nSkipping line 2552: expected 15 fields, saw 18\\nSkipping line 2559: expected 15 fields, saw 26\\nSkipping line 2562: expected 15 fields, saw 16\\nSkipping line 2563: expected 15 fields, saw 16\\nSkipping line 2565: expected 15 fields, saw 17\\nSkipping line 2569: expected 15 fields, saw 20\\nSkipping line 2572: expected 15 fields, saw 18\\nSkipping line 2573: expected 15 fields, saw 16\\nSkipping line 2578: expected 15 fields, saw 18\\nSkipping line 2581: expected 15 fields, saw 23\\nSkipping line 2587: expected 15 fields, saw 16\\nSkipping line 2589: expected 15 fields, saw 17\\nSkipping line 2590: expected 15 fields, saw 16\\nSkipping line 2592: expected 15 fields, saw 19\\nSkipping line 2594: expected 15 fields, saw 20\\nSkipping line 2599: expected 15 fields, saw 16\\nSkipping line 2600: expected 15 fields, saw 21\\nSkipping line 2602: expected 15 fields, saw 23\\nSkipping line 2612: expected 15 fields, saw 19\\nSkipping line 2624: expected 15 fields, saw 16\\nSkipping line 2625: expected 15 fields, saw 17\\nSkipping line 2630: expected 15 fields, saw 23\\nSkipping line 2637: expected 15 fields, saw 21\\nSkipping line 2638: expected 15 fields, saw 18\\nSkipping line 2641: expected 15 fields, saw 19\\nSkipping line 2652: expected 15 fields, saw 16\\nSkipping line 2656: expected 15 fields, saw 19\\nSkipping line 2662: expected 15 fields, saw 20\\nSkipping line 2665: expected 15 fields, saw 21\\nSkipping line 2674: expected 15 fields, saw 20\\nSkipping line 2675: expected 15 fields, saw 18\\nSkipping line 2678: expected 15 fields, saw 18\\nSkipping line 2680: expected 15 fields, saw 22\\nSkipping line 2692: expected 15 fields, saw 21\\nSkipping line 2693: expected 15 fields, saw 18\\nSkipping line 2698: expected 15 fields, saw 17\\nSkipping line 2699: expected 15 fields, saw 16\\nSkipping line 2703: expected 15 fields, saw 16\\nSkipping line 2704: expected 15 fields, saw 18\\nSkipping line 2707: expected 15 fields, saw 17\\nSkipping line 2709: expected 15 fields, saw 21\\nSkipping line 2711: expected 15 fields, saw 18\\nSkipping line 2712: expected 15 fields, saw 18\\nSkipping line 2715: expected 15 fields, saw 18\\nSkipping line 2722: expected 15 fields, saw 18\\nSkipping line 2735: expected 15 fields, saw 22\\nSkipping line 2740: expected 15 fields, saw 18\\nSkipping line 2748: expected 15 fields, saw 21\\nSkipping line 2759: expected 15 fields, saw 16\\nSkipping line 2765: expected 15 fields, saw 19\\nSkipping line 2776: expected 15 fields, saw 21\\nSkipping line 2783: expected 15 fields, saw 19\\nSkipping line 2784: expected 15 fields, saw 21\\nSkipping line 2785: expected 15 fields, saw 18\\nSkipping line 2793: expected 15 fields, saw 19\\nSkipping line 2794: expected 15 fields, saw 18\\nSkipping line 2795: expected 15 fields, saw 24\\nSkipping line 2799: expected 15 fields, saw 18\\nSkipping line 2802: expected 15 fields, saw 16\\nSkipping line 2803: expected 15 fields, saw 22\\nSkipping line 2810: expected 15 fields, saw 16\\nSkipping line 2813: expected 15 fields, saw 22\\nSkipping line 2820: expected 15 fields, saw 20\\nSkipping line 2830: expected 15 fields, saw 16\\nSkipping line 2834: expected 15 fields, saw 19\\nSkipping line 2853: expected 15 fields, saw 19\\nSkipping line 2856: expected 15 fields, saw 19\\nSkipping line 2868: expected 15 fields, saw 21\\nSkipping line 2870: expected 15 fields, saw 16\\nSkipping line 2872: expected 15 fields, saw 21\\nSkipping line 2873: expected 15 fields, saw 20\\nSkipping line 2876: expected 15 fields, saw 18\\nSkipping line 2877: expected 15 fields, saw 24\\nSkipping line 2880: expected 15 fields, saw 19\\nSkipping line 2881: expected 15 fields, saw 18\\nSkipping line 2886: expected 15 fields, saw 19\\nSkipping line 2891: expected 15 fields, saw 24\\nSkipping line 2896: expected 15 fields, saw 19\\nSkipping line 2899: expected 15 fields, saw 23\\nSkipping line 2909: expected 15 fields, saw 18\\nSkipping line 2913: expected 15 fields, saw 19\\nSkipping line 2914: expected 15 fields, saw 24\\nSkipping line 2915: expected 15 fields, saw 20\\nSkipping line 2917: expected 15 fields, saw 23\\nSkipping line 2918: expected 15 fields, saw 18\\nSkipping line 2920: expected 15 fields, saw 22\\nSkipping line 2925: expected 15 fields, saw 17\\nSkipping line 2931: expected 15 fields, saw 18\\nSkipping line 2937: expected 15 fields, saw 18\\nSkipping line 2940: expected 15 fields, saw 18\\nSkipping line 2941: expected 15 fields, saw 17\\nSkipping line 2974: expected 15 fields, saw 19\\nSkipping line 2975: expected 15 fields, saw 17\\nSkipping line 2985: expected 15 fields, saw 18\\nSkipping line 2991: expected 15 fields, saw 16\\nSkipping line 3004: expected 15 fields, saw 20\\nSkipping line 3014: expected 15 fields, saw 16\\nSkipping line 3035: expected 15 fields, saw 23\\nSkipping line 3036: expected 15 fields, saw 30\\nSkipping line 3038: expected 15 fields, saw 19\\nSkipping line 3047: expected 15 fields, saw 25\\nSkipping line 3048: expected 15 fields, saw 28\\nSkipping line 3054: expected 15 fields, saw 16\\nSkipping line 3055: expected 15 fields, saw 16\\nSkipping line 3057: expected 15 fields, saw 20\\nSkipping line 3060: expected 15 fields, saw 20\\nSkipping line 3073: expected 15 fields, saw 18\\nSkipping line 3085: expected 15 fields, saw 18\\nSkipping line 3119: expected 15 fields, saw 23\\nSkipping line 3135: expected 15 fields, saw 16\\nSkipping line 3141: expected 15 fields, saw 20\\nSkipping line 3144: expected 15 fields, saw 17\\nSkipping line 3145: expected 15 fields, saw 16\\nSkipping line 3227: expected 15 fields, saw 16\\nSkipping line 3240: expected 15 fields, saw 19\\nSkipping line 3245: expected 15 fields, saw 26\\nSkipping line 3249: expected 15 fields, saw 16\\nSkipping line 3260: expected 15 fields, saw 16\\nSkipping line 3265: expected 15 fields, saw 18\\nSkipping line 3266: expected 15 fields, saw 19\\nSkipping line 3269: expected 15 fields, saw 25\\nSkipping line 3300: expected 15 fields, saw 16\\nSkipping line 3303: expected 15 fields, saw 18\\nSkipping line 3305: expected 15 fields, saw 19\\nSkipping line 3309: expected 15 fields, saw 19\\nSkipping line 3323: expected 15 fields, saw 18\\nSkipping line 3324: expected 15 fields, saw 17\\nSkipping line 3335: expected 15 fields, saw 18\\nSkipping line 3341: expected 15 fields, saw 17\\nSkipping line 3346: expected 15 fields, saw 18\\nSkipping line 3360: expected 15 fields, saw 16\\nSkipping line 3362: expected 15 fields, saw 16\\nSkipping line 3367: expected 15 fields, saw 16\\nSkipping line 3385: expected 15 fields, saw 16\\nSkipping line 3389: expected 15 fields, saw 17\\nSkipping line 3398: expected 15 fields, saw 20\\nSkipping line 3407: expected 15 fields, saw 17\\nSkipping line 3418: expected 15 fields, saw 22\\nSkipping line 3431: expected 15 fields, saw 18\\nSkipping line 3436: expected 15 fields, saw 16\\nSkipping line 3445: expected 15 fields, saw 16\\nSkipping line 3448: expected 15 fields, saw 18\\nSkipping line 3454: expected 15 fields, saw 17\\nSkipping line 3456: expected 15 fields, saw 20\\nSkipping line 3457: expected 15 fields, saw 17\\nSkipping line 3459: expected 15 fields, saw 18\\nSkipping line 3464: expected 15 fields, saw 16\\nSkipping line 3467: expected 15 fields, saw 18\\nSkipping line 3469: expected 15 fields, saw 23\\nSkipping line 3472: expected 15 fields, saw 21\\nSkipping line 3486: expected 15 fields, saw 19\\nSkipping line 3505: expected 15 fields, saw 18\\nSkipping line 3569: expected 15 fields, saw 16\\nSkipping line 3578: expected 15 fields, saw 16\\nSkipping line 3602: expected 15 fields, saw 18\\nSkipping line 3614: expected 15 fields, saw 18\\nSkipping line 3615: expected 15 fields, saw 16\\nSkipping line 3629: expected 15 fields, saw 17\\nSkipping line 3630: expected 15 fields, saw 20\\nSkipping line 3653: expected 15 fields, saw 18\\nSkipping line 3671: expected 15 fields, saw 17\\nSkipping line 3674: expected 15 fields, saw 16\\nSkipping line 3680: expected 15 fields, saw 17\\nSkipping line 3686: expected 15 fields, saw 17\\nSkipping line 3710: expected 15 fields, saw 22\\nSkipping line 3721: expected 15 fields, saw 16\\nSkipping line 3728: expected 15 fields, saw 24\\nSkipping line 3758: expected 15 fields, saw 17\\nSkipping line 3759: expected 15 fields, saw 22\\nSkipping line 3767: expected 15 fields, saw 18\\nSkipping line 3779: expected 15 fields, saw 18\\nSkipping line 3803: expected 15 fields, saw 18\\nSkipping line 3816: expected 15 fields, saw 18\\nSkipping line 3823: expected 15 fields, saw 18\\nSkipping line 3836: expected 15 fields, saw 17\\nSkipping line 3839: expected 15 fields, saw 18\\nSkipping line 3843: expected 15 fields, saw 22\\nSkipping line 3848: expected 15 fields, saw 16\\nSkipping line 3849: expected 15 fields, saw 18\\nSkipping line 3851: expected 15 fields, saw 16\\nSkipping line 3855: expected 15 fields, saw 18\\nSkipping line 3856: expected 15 fields, saw 17\\nSkipping line 3866: expected 15 fields, saw 23\\nSkipping line 3868: expected 15 fields, saw 19\\nSkipping line 3871: expected 15 fields, saw 20\\nSkipping line 3875: expected 15 fields, saw 20\\nSkipping line 3877: expected 15 fields, saw 16\\nSkipping line 3880: expected 15 fields, saw 22\\nSkipping line 3881: expected 15 fields, saw 17\\nSkipping line 3885: expected 15 fields, saw 18\\nSkipping line 3887: expected 15 fields, saw 19\\nSkipping line 3894: expected 15 fields, saw 22\\nSkipping line 3895: expected 15 fields, saw 21\\nSkipping line 3903: expected 15 fields, saw 20\\nSkipping line 3928: expected 15 fields, saw 22\\nSkipping line 3933: expected 15 fields, saw 20\\nSkipping line 3936: expected 15 fields, saw 18\\nSkipping line 3940: expected 15 fields, saw 23\\nSkipping line 3999: expected 15 fields, saw 19\\nSkipping line 4000: expected 15 fields, saw 17\\nSkipping line 4100: expected 15 fields, saw 16\\nSkipping line 4103: expected 15 fields, saw 17\\nSkipping line 4108: expected 15 fields, saw 16\\nSkipping line 4131: expected 15 fields, saw 17\\nSkipping line 4134: expected 15 fields, saw 18\\nSkipping line 4148: expected 15 fields, saw 16\\nSkipping line 4151: expected 15 fields, saw 17\\nSkipping line 4160: expected 15 fields, saw 18\\nSkipping line 4173: expected 15 fields, saw 19\\nSkipping line 4194: expected 15 fields, saw 21\\nSkipping line 4204: expected 15 fields, saw 17\\nSkipping line 4278: expected 15 fields, saw 17\\nSkipping line 4288: expected 15 fields, saw 19\\nSkipping line 4291: expected 15 fields, saw 16\\nSkipping line 4301: expected 15 fields, saw 22\\nSkipping line 4307: expected 15 fields, saw 17\\nSkipping line 4326: expected 15 fields, saw 24\\nSkipping line 4334: expected 15 fields, saw 17\\nSkipping line 4434: expected 15 fields, saw 16\\nSkipping line 4456: expected 15 fields, saw 22\\nSkipping line 4471: expected 15 fields, saw 19\\nSkipping line 4484: expected 15 fields, saw 25\\nSkipping line 4497: expected 15 fields, saw 20\\nSkipping line 4522: expected 15 fields, saw 18\\nSkipping line 4525: expected 15 fields, saw 16\\nSkipping line 4533: expected 15 fields, saw 16\\nSkipping line 4578: expected 15 fields, saw 17\\nSkipping line 4619: expected 15 fields, saw 17\\nSkipping line 4621: expected 15 fields, saw 16\\nSkipping line 4624: expected 15 fields, saw 16\\nSkipping line 4641: expected 15 fields, saw 19\\nSkipping line 4665: expected 15 fields, saw 20\\nSkipping line 4678: expected 15 fields, saw 17\\nSkipping line 4685: expected 15 fields, saw 18\\nSkipping line 4704: expected 15 fields, saw 16\\nSkipping line 4711: expected 15 fields, saw 18\\nSkipping line 4715: expected 15 fields, saw 16\\nSkipping line 4718: expected 15 fields, saw 19\\nSkipping line 4725: expected 15 fields, saw 17\\nSkipping line 4727: expected 15 fields, saw 17\\nSkipping line 4730: expected 15 fields, saw 17\\nSkipping line 4732: expected 15 fields, saw 22\\nSkipping line 4733: expected 15 fields, saw 21\\nSkipping line 4736: expected 15 fields, saw 16\\nSkipping line 4747: expected 15 fields, saw 23\\nSkipping line 4754: expected 15 fields, saw 18\\nSkipping line 4775: expected 15 fields, saw 18\\nSkipping line 4781: expected 15 fields, saw 19\\nSkipping line 4783: expected 15 fields, saw 20\\nSkipping line 4786: expected 15 fields, saw 20\\nSkipping line 4787: expected 15 fields, saw 22\\nSkipping line 4804: expected 15 fields, saw 17\\nSkipping line 4828: expected 15 fields, saw 19\\nSkipping line 4830: expected 15 fields, saw 19\\nSkipping line 4842: expected 15 fields, saw 18\\nSkipping line 4844: expected 15 fields, saw 18\\nSkipping line 4854: expected 15 fields, saw 17\\nSkipping line 4855: expected 15 fields, saw 18\\nSkipping line 4857: expected 15 fields, saw 16\\nSkipping line 4863: expected 15 fields, saw 24\\nSkipping line 4864: expected 15 fields, saw 16\\nSkipping line 4868: expected 15 fields, saw 23\\nSkipping line 4872: expected 15 fields, saw 20\\nSkipping line 4878: expected 15 fields, saw 19\\nSkipping line 4879: expected 15 fields, saw 31\\nSkipping line 4911: expected 15 fields, saw 16\\nSkipping line 4914: expected 15 fields, saw 16\\nSkipping line 4916: expected 15 fields, saw 27\\nSkipping line 4917: expected 15 fields, saw 19\\nSkipping line 4919: expected 15 fields, saw 21\\nSkipping line 4921: expected 15 fields, saw 20\\nSkipping line 4922: expected 15 fields, saw 18\\nSkipping line 4923: expected 15 fields, saw 23\\nSkipping line 4924: expected 15 fields, saw 18\\nSkipping line 4926: expected 15 fields, saw 19\\nSkipping line 4927: expected 15 fields, saw 17\\nSkipping line 4931: expected 15 fields, saw 21\\nSkipping line 4932: expected 15 fields, saw 19\\nSkipping line 4933: expected 15 fields, saw 23\\nSkipping line 4934: expected 15 fields, saw 18\\nSkipping line 4937: expected 15 fields, saw 23\\nSkipping line 4939: expected 15 fields, saw 16\\nSkipping line 4942: expected 15 fields, saw 16\\nSkipping line 4944: expected 15 fields, saw 17\\nSkipping line 4950: expected 15 fields, saw 16\\nSkipping line 4957: expected 15 fields, saw 16\\nSkipping line 4960: expected 15 fields, saw 17\\nSkipping line 4967: expected 15 fields, saw 24\\nSkipping line 4968: expected 15 fields, saw 17\\nSkipping line 4969: expected 15 fields, saw 17\\nSkipping line 4971: expected 15 fields, saw 18\\nSkipping line 4975: expected 15 fields, saw 21\\nSkipping line 4978: expected 15 fields, saw 16\\nSkipping line 4980: expected 15 fields, saw 16\\nSkipping line 4983: expected 15 fields, saw 16\\nSkipping line 4984: expected 15 fields, saw 18\\nSkipping line 4985: expected 15 fields, saw 16\\nSkipping line 4986: expected 15 fields, saw 18\\nSkipping line 4987: expected 15 fields, saw 22\\nSkipping line 4989: expected 15 fields, saw 19\\nSkipping line 4991: expected 15 fields, saw 17\\nSkipping line 4992: expected 15 fields, saw 19\\nSkipping line 4998: expected 15 fields, saw 20\\nSkipping line 5001: expected 15 fields, saw 21\\nSkipping line 5004: expected 15 fields, saw 17\\nSkipping line 5006: expected 15 fields, saw 18\\nSkipping line 5007: expected 15 fields, saw 18\\nSkipping line 5011: expected 15 fields, saw 19\\nSkipping line 5014: expected 15 fields, saw 20\\nSkipping line 5015: expected 15 fields, saw 21\\nSkipping line 5016: expected 15 fields, saw 20\\nSkipping line 5031: expected 15 fields, saw 18\\nSkipping line 5032: expected 15 fields, saw 16\\nSkipping line 5033: expected 15 fields, saw 24\\nSkipping line 5034: expected 15 fields, saw 18\\nSkipping line 5040: expected 15 fields, saw 17\\nSkipping line 5042: expected 15 fields, saw 17\\nSkipping line 5044: expected 15 fields, saw 17\\nSkipping line 5048: expected 15 fields, saw 16\\nSkipping line 5056: expected 15 fields, saw 17\\nSkipping line 5081: expected 15 fields, saw 18\\nSkipping line 5086: expected 15 fields, saw 23\\nSkipping line 5090: expected 15 fields, saw 18\\nSkipping line 5092: expected 15 fields, saw 17\\nSkipping line 5098: expected 15 fields, saw 16\\nSkipping line 5115: expected 15 fields, saw 18\\nSkipping line 5144: expected 15 fields, saw 17\\nSkipping line 5150: expected 15 fields, saw 18\\nSkipping line 5152: expected 15 fields, saw 18\\nSkipping line 5162: expected 15 fields, saw 18\\nSkipping line 5176: expected 15 fields, saw 16\\nSkipping line 5187: expected 15 fields, saw 18\\nSkipping line 5191: expected 15 fields, saw 19\\nSkipping line 5200: expected 15 fields, saw 16\\nSkipping line 5209: expected 15 fields, saw 19\\nSkipping line 5224: expected 15 fields, saw 21\\nSkipping line 5226: expected 15 fields, saw 21\\nSkipping line 5237: expected 15 fields, saw 24\\nSkipping line 5245: expected 15 fields, saw 25\\nSkipping line 5261: expected 15 fields, saw 16\\nSkipping line 5262: expected 15 fields, saw 17\\nSkipping line 5273: expected 15 fields, saw 18\\nSkipping line 5278: expected 15 fields, saw 22\\nSkipping line 5291: expected 15 fields, saw 16\\nSkipping line 5294: expected 15 fields, saw 16\\nSkipping line 5303: expected 15 fields, saw 22\\nSkipping line 5306: expected 15 fields, saw 23\\nSkipping line 5308: expected 15 fields, saw 17\\nSkipping line 5316: expected 15 fields, saw 20\\nSkipping line 5318: expected 15 fields, saw 16\\nSkipping line 5333: expected 15 fields, saw 18\\nSkipping line 5335: expected 15 fields, saw 16\\nSkipping line 5365: expected 15 fields, saw 19\\nSkipping line 5379: expected 15 fields, saw 18\\nSkipping line 5397: expected 15 fields, saw 20\\nSkipping line 5412: expected 15 fields, saw 17\\nSkipping line 5416: expected 15 fields, saw 17\\nSkipping line 5419: expected 15 fields, saw 16\\nSkipping line 5424: expected 15 fields, saw 18\\nSkipping line 5436: expected 15 fields, saw 16\\nSkipping line 5437: expected 15 fields, saw 18\\nSkipping line 5445: expected 15 fields, saw 17\\nSkipping line 5449: expected 15 fields, saw 17\\nSkipping line 5453: expected 15 fields, saw 16\\nSkipping line 5473: expected 15 fields, saw 16\\nSkipping line 5478: expected 15 fields, saw 17\\nSkipping line 5489: expected 15 fields, saw 18\\nSkipping line 5492: expected 15 fields, saw 21\\nSkipping line 5495: expected 15 fields, saw 29\\nSkipping line 5503: expected 15 fields, saw 18\\nSkipping line 5508: expected 15 fields, saw 17\\nSkipping line 5510: expected 15 fields, saw 18\\nSkipping line 5514: expected 15 fields, saw 22\\nSkipping line 5516: expected 15 fields, saw 18\\nSkipping line 5526: expected 15 fields, saw 18\\nSkipping line 5528: expected 15 fields, saw 17\\nSkipping line 5539: expected 15 fields, saw 16\\nSkipping line 5550: expected 15 fields, saw 16\\nSkipping line 5562: expected 15 fields, saw 16\\nSkipping line 5565: expected 15 fields, saw 23\\nSkipping line 5582: expected 15 fields, saw 21\\nSkipping line 5589: expected 15 fields, saw 24\\nSkipping line 5607: expected 15 fields, saw 18\\nSkipping line 5667: expected 15 fields, saw 17\\nSkipping line 5697: expected 15 fields, saw 16\\nSkipping line 5702: expected 15 fields, saw 18\\nSkipping line 5710: expected 15 fields, saw 18\\nSkipping line 5723: expected 15 fields, saw 19\\nSkipping line 5728: expected 15 fields, saw 17\\nSkipping line 5758: expected 15 fields, saw 17\\nSkipping line 5796: expected 15 fields, saw 16\\nSkipping line 5797: expected 15 fields, saw 16\\nSkipping line 5813: expected 15 fields, saw 18\\nSkipping line 5819: expected 15 fields, saw 18\\n'\n"
     ]
    }
   ],
   "source": [
    "df = pd.read_csv(\"./google_scholar_aging_data.csv\", skiprows = 1, error_bad_lines=False)"
   ]
  },
  {
   "cell_type": "markdown",
   "id": "f692e44a",
   "metadata": {},
   "source": [
    "# Part 2: Clean data\n",
    "1. Retain and combine essential columns\n",
    "2. Clean text (regular expression operations)\n",
    "\n"
   ]
  },
  {
   "cell_type": "markdown",
   "id": "00bc26a4",
   "metadata": {},
   "source": [
    " ### 1) Retain and combine columns with paper's title and abstract "
   ]
  },
  {
   "cell_type": "code",
   "execution_count": 9,
   "id": "59177039",
   "metadata": {},
   "outputs": [],
   "source": [
    "#get the essential rows that contains titles\n",
    "df = df.reset_index()\n",
    "df = df[['level_0', 'level_1', 'level_2']]"
   ]
  },
  {
   "cell_type": "code",
   "execution_count": 10,
   "id": "40e37026",
   "metadata": {},
   "outputs": [],
   "source": [
    "#there are 1k+ rows that were repeated\n",
    "df = df.drop_duplicates(subset=['level_0'])\n",
    "\n",
    "#some fields are empty. Replace with dumby text. to be removed later \n",
    "df[\"level_1\"].fillna(\"blank\", inplace=True)\n",
    "df[\"level_2\"].fillna(\"blank\", inplace=True)"
   ]
  },
  {
   "cell_type": "code",
   "execution_count": 11,
   "id": "1b04de6d",
   "metadata": {},
   "outputs": [],
   "source": [
    "#combine text columns into single column\n",
    "df[\"text\"] = df[\"level_0\"] + \" \" + df[\"level_1\"] + \" \" + df[\"level_2\"]\n",
    "df = pd.DataFrame(df[\"text\"])"
   ]
  },
  {
   "cell_type": "markdown",
   "id": "bb12997e",
   "metadata": {},
   "source": [
    "### 2) Clean text (regular expression operations)"
   ]
  },
  {
   "cell_type": "code",
   "execution_count": 14,
   "id": "b29fa6df",
   "metadata": {},
   "outputs": [],
   "source": [
    "#clear all the white spaces \n",
    "df[\"text\"] = df[\"text\"].apply(clear_white_space)"
   ]
  },
  {
   "cell_type": "code",
   "execution_count": 15,
   "id": "d5c2fbf8",
   "metadata": {},
   "outputs": [],
   "source": [
    "#extract sites into new columns\n",
    "df[\"site\"] = df[\"text\"].apply(get_site)"
   ]
  },
  {
   "cell_type": "code",
   "execution_count": 16,
   "id": "4a7f5260",
   "metadata": {},
   "outputs": [],
   "source": [
    "#retain full english words in title and abstract\n",
    "df[\"text\"] = df[\"text\"].apply(get_word)"
   ]
  },
  {
   "cell_type": "code",
   "execution_count": 17,
   "id": "db00db7c",
   "metadata": {},
   "outputs": [],
   "source": [
    "#convert all words into lower cases for standardisation\n",
    "df[\"text\"] = df[\"text\"].str.lower()"
   ]
  },
  {
   "cell_type": "markdown",
   "id": "f63f601a",
   "metadata": {},
   "source": [
    "# Part 3: Sentiment analysis (textblob)\n",
    "1. Analyse sentiment of all articles\n",
    "2. Extract top and bottom 15% most \"sensational article for word cloud analysis"
   ]
  },
  {
   "cell_type": "markdown",
   "id": "e3de39b0",
   "metadata": {},
   "source": [
    "### 1) Analyse sentiment of all articles "
   ]
  },
  {
   "cell_type": "code",
   "execution_count": 18,
   "id": "40488a3e",
   "metadata": {},
   "outputs": [],
   "source": [
    "#create textblob object for each title + abstract prior to analysis\n",
    "text_list = list(df[\"text\"])\n",
    "\n",
    "blob_objects = []\n",
    "for title in text_list:\n",
    "    blob = TextBlob(title)\n",
    "    blob_objects.append(blob)"
   ]
  },
  {
   "cell_type": "code",
   "execution_count": 19,
   "id": "2f1befb3",
   "metadata": {},
   "outputs": [],
   "source": [
    "# anaylse sentiment of each textblob object  \n",
    "sentiment_list = []\n",
    "for blob in blob_objects:\n",
    "    sentiment = blob.sentiment.polarity #-1 to 1\n",
    "    sentiment_list.append(sentiment)"
   ]
  },
  {
   "cell_type": "code",
   "execution_count": 20,
   "id": "82f2dd25",
   "metadata": {},
   "outputs": [],
   "source": [
    "#append sentiment to the respective row in dataframe\n",
    "sentiment_column = pd.Series(sentiment_list,name =\"sentiment\")\n",
    "df = pd.concat([df.reset_index(),sentiment_column.reset_index()],axis=\"columns\")\n",
    "df = df[[ 'text', 'site',  'sentiment']]"
   ]
  },
  {
   "cell_type": "code",
   "execution_count": 21,
   "id": "a26c52b8",
   "metadata": {},
   "outputs": [
    {
     "data": {
      "image/png": "[encoded data removed]",
      "text/plain": [
       "<Figure size 432x288 with 1 Axes>"
      ]
     },
     "metadata": {
      "needs_background": "light"
     },
     "output_type": "display_data"
    }
   ],
   "source": [
    "#generate histogram to study distribution of sentiment\n",
    "ax = df[\"sentiment\"].plot.hist(bins=28, alpha=0.5)\n",
    "\n",
    "## export graph to pdf\n",
    "# fig = ax.get_figure()\n",
    "# fig.savefig('./figure.pdf')"
   ]
  },
  {
   "cell_type": "markdown",
   "id": "4efc60ec",
   "metadata": {},
   "source": [
    "### 2) Extract top and bottom ~15% most \"sensational article for word cloud analysis"
   ]
  },
  {
   "cell_type": "code",
   "execution_count": 22,
   "id": "d2e51072",
   "metadata": {},
   "outputs": [
    {
     "data": {
      "text/plain": [
       "0.16501053899427884"
      ]
     },
     "execution_count": 22,
     "metadata": {},
     "output_type": "execute_result"
    }
   ],
   "source": [
    "df_good_news = df[df[\"sentiment\"]>=0.2]\n",
    "len(df_good_news)/len(df)"
   ]
  },
  {
   "cell_type": "code",
   "execution_count": 23,
   "id": "7d4221cd",
   "metadata": {},
   "outputs": [
    {
     "data": {
      "text/plain": [
       "0.16621499548328816"
      ]
     },
     "execution_count": 23,
     "metadata": {},
     "output_type": "execute_result"
    }
   ],
   "source": [
    "df_bad_news = df[df[\"sentiment\"]<-0.0]\n",
    "len(df_bad_news)/len(df)"
   ]
  },
  {
   "cell_type": "markdown",
   "id": "719224e1",
   "metadata": {},
   "source": [
    "# Part 4: Word Cloud for Insights "
   ]
  },
  {
   "cell_type": "markdown",
   "id": "0e3853bb",
   "metadata": {},
   "source": [
    "## 1) good news "
   ]
  },
  {
   "cell_type": "code",
   "execution_count": 34,
   "id": "e786fafc",
   "metadata": {},
   "outputs": [],
   "source": [
    "# count words in title and abstract\n",
    "\n",
    "#extract columns\n",
    "text_list = list(df_good_news[\"text\"])\n",
    "\n",
    "#tokenise the words\n",
    "for i in range(0,len(text_list)):\n",
    "    text_list[i] = text_list[i].split(\" \")\n",
    "\n",
    "#file words and counts into dictionary\n",
    "word_count = {}\n",
    "for title in text_list:\n",
    "    for word in title:\n",
    "        word_count.setdefault(word, 0)\n",
    "        word_count[word] = word_count[word] + 1 \n",
    "        \n",
    "#remove stop words\n",
    "for key in list(word_count.keys()):\n",
    "    if key in stopwords:\n",
    "        word_count.pop(key,None)\n",
    "        \n",
    "#remove unwanted words\n",
    "unwanted_words = [\"https\",\"issues\",\"aging\",\"mj\",\"www\", \"com\", 'pdf',\"format\",\"file\",\"org\", \"title\",\n",
    "                 \"link\", \"article\", \"gov\", \"html\", \"j\",\"edu\",\"blank\"]\n",
    "for key in list(word_count.keys()):\n",
    "    if key in unwanted_words:\n",
    "        word_count.pop(key,None)"
   ]
  },
  {
   "cell_type": "code",
   "execution_count": 35,
   "id": "aa7cdd5e",
   "metadata": {},
   "outputs": [],
   "source": [
    "#create working work count dictionary for tuning\n",
    "word_count_low = word_count.copy()"
   ]
  },
  {
   "cell_type": "code",
   "execution_count": 36,
   "id": "64e20d44",
   "metadata": {},
   "outputs": [],
   "source": [
    "#tune the word count until reasonably useful information can be extracted\n",
    "for key in list(word_count_low.keys()):\n",
    "    if word_count_low[key]>5 or word_count_low[key]<0:\n",
    "#     if word_count_low[key]>5:\n",
    "        word_count_low.pop(key,None)\n"
   ]
  },
  {
   "cell_type": "code",
   "execution_count": 37,
   "id": "7e024400",
   "metadata": {},
   "outputs": [],
   "source": [
    "#generate work cloud\n",
    "word_list = []\n",
    "for key, value in word_count_low.items():\n",
    "    for i in range(0,value):\n",
    "        word_list.append(key)\n",
    "word_list = \" \".join(word_list)\n",
    "\n",
    "word_cloud_good = WordCloud(background_color = 'white').generate(word_list)\n",
    "img_good = word_cloud_good.to_image()\n",
    "img_good.show()"
   ]
  },
  {
   "cell_type": "markdown",
   "id": "e41269a5",
   "metadata": {},
   "source": [
    "## 2) bed news "
   ]
  },
  {
   "cell_type": "code",
   "execution_count": 88,
   "id": "cda1583d",
   "metadata": {},
   "outputs": [],
   "source": [
    "# count words in title and abstract\n",
    "\n",
    "#extract columns\n",
    "text_list = list(df_bad_news[\"text\"])\n",
    "\n",
    "#tokenise the titles\n",
    "for i in range(0,len(text_list)):\n",
    "    text_list[i] = text_list[i].split(\" \")\n",
    "    \n",
    "word_count = {}\n",
    "for title in text_list:\n",
    "    for word in title:\n",
    "        word_count.setdefault(word, 0)\n",
    "        word_count[word] = word_count[word] + 1 \n",
    "        \n",
    "#remove stop words\n",
    "for key in list(word_count.keys()):\n",
    "    if key in stopwords:\n",
    "        word_count.pop(key,None)\n",
    "        \n",
    "#remove unwanted words\n",
    "unwanted_words = [\"https\",\"issues\",\"aging\",\"mj\",\"www\", \"com\", 'pdf',\"format\",\"file\",\"org\", \"title\",\n",
    "                 \"link\", \"article\", \"gov\", \"html\", \"j\",\"edu\", \"articles\", \"pi\",\"pll\",\"springer\",\"blank\"]\n",
    "for key in list(word_count.keys()):\n",
    "    if key in unwanted_words:\n",
    "        word_count.pop(key,None)\n",
    "        "
   ]
  },
  {
   "cell_type": "code",
   "execution_count": 38,
   "id": "f00774e9",
   "metadata": {},
   "outputs": [],
   "source": [
    "#create working work count dictionary for tuning\n",
    "word_count_low = word_count.copy()"
   ]
  },
  {
   "cell_type": "code",
   "execution_count": 93,
   "id": "465f5e24",
   "metadata": {},
   "outputs": [],
   "source": [
    "#tune the word count until reasonably useful information can be extracted\n",
    "for key in list(word_count_low.keys()):\n",
    "    if word_count_low[key]>5 or word_count_low[key]<0:\n",
    "        word_count_low.pop(key,None)"
   ]
  },
  {
   "cell_type": "code",
   "execution_count": 94,
   "id": "c592d939",
   "metadata": {},
   "outputs": [],
   "source": [
    "#generate work cloud\n",
    "word_list = []\n",
    "for key, value in word_count_low.items():\n",
    "    for i in range(0,value):\n",
    "        word_list.append(key)\n",
    "word_list = \" \".join(word_list)\n",
    "\n",
    "word_cloud_good = WordCloud(background_color = 'white').generate(word_list)\n",
    "img_good = word_cloud_good.to_image()\n",
    "img_good.show()"
   ]
  },
  {
   "cell_type": "markdown",
   "id": "cd0b45b5",
   "metadata": {},
   "source": [
    "# Future section (for discussion with the team):\n",
    "1. Return article URLs for selected keyword\n",
    "2. Webscrapping module to extract and analyse text from article URLs"
   ]
  },
  {
   "cell_type": "code",
   "execution_count": null,
   "id": "2eb09b6c",
   "metadata": {},
   "outputs": [],
   "source": []
  },
  {
   "cell_type": "code",
   "execution_count": null,
   "id": "90542cfa",
   "metadata": {},
   "outputs": [],
   "source": []
  },
  {
   "cell_type": "code",
   "execution_count": null,
   "id": "491c1d73",
   "metadata": {},
   "outputs": [],
   "source": []
  }
 ],
 "metadata": {
  "kernelspec": {
   "display_name": "Python 3",
   "language": "python",
   "name": "python3"
  },
  "language_info": {
   "codemirror_mode": {
    "name": "ipython",
    "version": 3
   },
   "file_extension": ".py",
   "mimetype": "text/x-python",
   "name": "python",
   "nbconvert_exporter": "python",
   "pygments_lexer": "ipython3",
   "version": "3.8.8"
  }
 },
 "nbformat": 4,
 "nbformat_minor": 5
}
